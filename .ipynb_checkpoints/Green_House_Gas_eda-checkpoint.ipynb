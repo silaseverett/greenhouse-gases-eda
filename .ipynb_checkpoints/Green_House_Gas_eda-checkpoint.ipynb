{
 "cells": [
  {
   "cell_type": "markdown",
   "metadata": {},
   "source": [
    "<img src=\"zambia-travel.ngsversion.1503413472260.adapt.1900.1.jpg\">"
   ]
  },
  {
   "cell_type": "markdown",
   "metadata": {},
   "source": [
    "# Exploratory Analysis Green House Gas Emissions\n",
    "## Case of Zambia\n",
    "> Data Source: World Resources Institute Climate Analysis Indicators Tool"
   ]
  },
  {
   "cell_type": "code",
   "execution_count": 35,
   "metadata": {},
   "outputs": [
    {
     "data": {
      "text/html": [
       "<script>requirejs.config({paths: { 'plotly': ['https://cdn.plot.ly/plotly-latest.min']},});if(!window.Plotly) {{require(['plotly'],function(plotly) {window.Plotly=plotly;});}}</script>"
      ],
      "text/vnd.plotly.v1+html": [
       "<script>requirejs.config({paths: { 'plotly': ['https://cdn.plot.ly/plotly-latest.min']},});if(!window.Plotly) {{require(['plotly'],function(plotly) {window.Plotly=plotly;});}}</script>"
      ]
     },
     "metadata": {},
     "output_type": "display_data"
    }
   ],
   "source": [
    "import pandas as pd\n",
    "import numpy as np\n",
    "from plotly import __version__\n",
    "from plotly.offline import download_plotlyjs, init_notebook_mode, plot, iplot\n",
    "import plotly.graph_objs as go\n",
    "init_notebook_mode(connected=True)"
   ]
  },
  {
   "cell_type": "markdown",
   "metadata": {},
   "source": [
    "Here I'll load main dataset with Green House Gas emissions"
   ]
  },
  {
   "cell_type": "code",
   "execution_count": 7,
   "metadata": {},
   "outputs": [
    {
     "name": "stderr",
     "output_type": "stream",
     "text": [
      "/home/silas/anaconda3/lib/python3.6/site-packages/pandas/core/generic.py:3108: PerformanceWarning:\n",
      "\n",
      "dropping on a non-lexsorted multi-index without a level parameter may impact performance.\n",
      "\n"
     ]
    }
   ],
   "source": [
    "df = pd.read_excel('/home/silas/Desktop/j_zambia'+'/All/CW_CAIT_GHG_Emissions_31102017.xlsx', \n",
    "                   sheet_name='GHG Emissions')\n",
    "df.columns = list(df.iloc[0].values)\n",
    "df = df.drop('Country')\n",
    "df_= df.reset_index()"
   ]
  },
  {
   "cell_type": "markdown",
   "metadata": {},
   "source": [
    "The data contains year (1990-2014), countries, and emission contributing sectors in megatons of C0<sub>2</sub>e.  The data has some nan values in it where no data collected for the year, but otherwise clean."
   ]
  },
  {
   "cell_type": "code",
   "execution_count": 17,
   "metadata": {},
   "outputs": [
    {
     "data": {
      "text/html": [
       "<div>\n",
       "<style scoped>\n",
       "    .dataframe tbody tr th:only-of-type {\n",
       "        vertical-align: middle;\n",
       "    }\n",
       "\n",
       "    .dataframe tbody tr th {\n",
       "        vertical-align: top;\n",
       "    }\n",
       "\n",
       "    .dataframe thead th {\n",
       "        text-align: right;\n",
       "    }\n",
       "</style>\n",
       "<table border=\"1\" class=\"dataframe\">\n",
       "  <thead>\n",
       "    <tr style=\"text-align: right;\">\n",
       "      <th></th>\n",
       "      <th>level_0</th>\n",
       "      <th>level_1</th>\n",
       "      <th>Total GHG Emissions Excluding Land-Use Change and Forestry (MtCO2e)</th>\n",
       "      <th>Total GHG Emissions Including Land-Use Change and Forestry (MtCO₂e‍)</th>\n",
       "      <th>Total CO2 (excluding Land-Use Change and Forestry) (MtCO2)</th>\n",
       "      <th>Total CH4 (MtCO2e)</th>\n",
       "      <th>Total N2O (MtCO2e)</th>\n",
       "      <th>Total F-Gas (MtCO2e)</th>\n",
       "      <th>Total CO2 (including Land-Use Change and Forestry) (MtCO2)</th>\n",
       "      <th>Total CH4 (including Land-Use Change and Forestry) (MtCO2e)</th>\n",
       "      <th>...</th>\n",
       "      <th>Industrial Processes (MtCO2e)</th>\n",
       "      <th>Agriculture (MtCO2e)</th>\n",
       "      <th>Waste (MtCO2e)</th>\n",
       "      <th>Land-Use Change and Forestry (MtCO2)</th>\n",
       "      <th>Bunker Fuels (MtCO2)</th>\n",
       "      <th>Electricity/Heat (MtCO2)</th>\n",
       "      <th>Manufacturing/Construction (MtCO2)</th>\n",
       "      <th>Transportation (MtCO2)</th>\n",
       "      <th>Other Fuel Combustion (MtCO2e)</th>\n",
       "      <th>Fugitive Emissions (MtCO2e)</th>\n",
       "    </tr>\n",
       "  </thead>\n",
       "  <tbody>\n",
       "    <tr>\n",
       "      <th>0</th>\n",
       "      <td>Afghanistan</td>\n",
       "      <td>1990</td>\n",
       "      <td>15.2128</td>\n",
       "      <td>15.2128</td>\n",
       "      <td>2.91502</td>\n",
       "      <td>9.31159</td>\n",
       "      <td>2.98405</td>\n",
       "      <td>0.00218023</td>\n",
       "      <td>2.91502</td>\n",
       "      <td>9.31159</td>\n",
       "      <td>...</td>\n",
       "      <td>0.0571402</td>\n",
       "      <td>7.34271</td>\n",
       "      <td>4.03895</td>\n",
       "      <td>0</td>\n",
       "      <td>NaN</td>\n",
       "      <td>NaN</td>\n",
       "      <td>NaN</td>\n",
       "      <td>NaN</td>\n",
       "      <td>NaN</td>\n",
       "      <td>1.24222</td>\n",
       "    </tr>\n",
       "    <tr>\n",
       "      <th>1</th>\n",
       "      <td>Afghanistan</td>\n",
       "      <td>1991</td>\n",
       "      <td>15.2864</td>\n",
       "      <td>15.2864</td>\n",
       "      <td>2.68445</td>\n",
       "      <td>9.51619</td>\n",
       "      <td>3.08219</td>\n",
       "      <td>0.00361306</td>\n",
       "      <td>2.68445</td>\n",
       "      <td>9.51619</td>\n",
       "      <td>...</td>\n",
       "      <td>0.0585731</td>\n",
       "      <td>7.63103</td>\n",
       "      <td>4.22004</td>\n",
       "      <td>0</td>\n",
       "      <td>NaN</td>\n",
       "      <td>NaN</td>\n",
       "      <td>NaN</td>\n",
       "      <td>NaN</td>\n",
       "      <td>NaN</td>\n",
       "      <td>1.02085</td>\n",
       "    </tr>\n",
       "    <tr>\n",
       "      <th>2</th>\n",
       "      <td>Afghanistan</td>\n",
       "      <td>1992</td>\n",
       "      <td>14.0105</td>\n",
       "      <td>14.0105</td>\n",
       "      <td>1.39227</td>\n",
       "      <td>9.57148</td>\n",
       "      <td>3.04173</td>\n",
       "      <td>0.00504589</td>\n",
       "      <td>1.39227</td>\n",
       "      <td>9.57148</td>\n",
       "      <td>...</td>\n",
       "      <td>0.0636699</td>\n",
       "      <td>7.63144</td>\n",
       "      <td>4.40112</td>\n",
       "      <td>0</td>\n",
       "      <td>NaN</td>\n",
       "      <td>NaN</td>\n",
       "      <td>NaN</td>\n",
       "      <td>NaN</td>\n",
       "      <td>NaN</td>\n",
       "      <td>0.602588</td>\n",
       "    </tr>\n",
       "  </tbody>\n",
       "</table>\n",
       "<p>3 rows × 22 columns</p>\n",
       "</div>"
      ],
      "text/plain": [
       "       level_0 level_1  \\\n",
       "0  Afghanistan    1990   \n",
       "1  Afghanistan    1991   \n",
       "2  Afghanistan    1992   \n",
       "\n",
       "  Total GHG Emissions Excluding Land-Use Change and Forestry (MtCO2e)  \\\n",
       "0                                            15.2128                    \n",
       "1                                            15.2864                    \n",
       "2                                            14.0105                    \n",
       "\n",
       "  Total GHG Emissions Including Land-Use Change and Forestry (MtCO₂e‍)  \\\n",
       "0                                            15.2128                     \n",
       "1                                            15.2864                     \n",
       "2                                            14.0105                     \n",
       "\n",
       "  Total CO2 (excluding Land-Use Change and Forestry) (MtCO2)  \\\n",
       "0                                            2.91502           \n",
       "1                                            2.68445           \n",
       "2                                            1.39227           \n",
       "\n",
       "  Total CH4 (MtCO2e) Total N2O (MtCO2e) Total F-Gas (MtCO2e)  \\\n",
       "0            9.31159            2.98405           0.00218023   \n",
       "1            9.51619            3.08219           0.00361306   \n",
       "2            9.57148            3.04173           0.00504589   \n",
       "\n",
       "  Total CO2 (including Land-Use Change and Forestry) (MtCO2)  \\\n",
       "0                                            2.91502           \n",
       "1                                            2.68445           \n",
       "2                                            1.39227           \n",
       "\n",
       "  Total CH4 (including Land-Use Change and Forestry) (MtCO2e)  \\\n",
       "0                                            9.31159            \n",
       "1                                            9.51619            \n",
       "2                                            9.57148            \n",
       "\n",
       "              ...             Industrial Processes (MtCO2e)  \\\n",
       "0             ...                                 0.0571402   \n",
       "1             ...                                 0.0585731   \n",
       "2             ...                                 0.0636699   \n",
       "\n",
       "  Agriculture (MtCO2e) Waste (MtCO2e) Land-Use Change and Forestry (MtCO2)  \\\n",
       "0              7.34271        4.03895                                    0   \n",
       "1              7.63103        4.22004                                    0   \n",
       "2              7.63144        4.40112                                    0   \n",
       "\n",
       "  Bunker Fuels (MtCO2) Electricity/Heat (MtCO2)  \\\n",
       "0                  NaN                      NaN   \n",
       "1                  NaN                      NaN   \n",
       "2                  NaN                      NaN   \n",
       "\n",
       "  Manufacturing/Construction (MtCO2) Transportation (MtCO2)  \\\n",
       "0                                NaN                    NaN   \n",
       "1                                NaN                    NaN   \n",
       "2                                NaN                    NaN   \n",
       "\n",
       "  Other Fuel Combustion (MtCO2e) Fugitive Emissions (MtCO2e)  \n",
       "0                            NaN                     1.24222  \n",
       "1                            NaN                     1.02085  \n",
       "2                            NaN                    0.602588  \n",
       "\n",
       "[3 rows x 22 columns]"
      ]
     },
     "execution_count": 17,
     "metadata": {},
     "output_type": "execute_result"
    }
   ],
   "source": [
    "df_.head(3)"
   ]
  },
  {
   "cell_type": "markdown",
   "metadata": {},
   "source": [
    "Adding the continents to the dataset for further analysis by stripping from another dataset..."
   ]
  },
  {
   "cell_type": "code",
   "execution_count": 18,
   "metadata": {
    "collapsed": true
   },
   "outputs": [],
   "source": [
    "# extract continents for each country in target dataset \n",
    "df3 = pd.read_csv('/home/silas/Desktop/j_zambia'+'/gapminderDataFiveYear.csv')[['country', 'continent']].drop_duplicates()\n",
    "df_select = df_.rename(columns={'level_0':'country', 'level_1':'year'})\n",
    "col_lst_select = ['country','year','Energy (MtCO2e)', 'Industrial Processes (MtCO2e)',\n",
    "       'Agriculture (MtCO2e)', 'Waste (MtCO2e)',\n",
    "       'Land-Use Change and Forestry (MtCO2)', 'Other Fuel Combustion (MtCO2e)',\n",
    "       'Fugitive Emissions (MtCO2e)']"
   ]
  },
  {
   "cell_type": "markdown",
   "metadata": {},
   "source": [
    "I want to clean up the column headers a bit for visual presentation and remove totals as we won't be needing those."
   ]
  },
  {
   "cell_type": "code",
   "execution_count": 19,
   "metadata": {
    "collapsed": true
   },
   "outputs": [],
   "source": [
    "# merge continents with target dataset and clean up columns\n",
    "df_all = df_select.loc[:,col_lst_select].merge(df3).set_index('continent').reset_index().rename(columns={'continent':'Continent','country':'Country','year':'Year'})\n",
    "df_all.columns = list(df_all.columns.str.replace(' \\(MtCO2e\\)','').str.replace(' \\(MtCO2\\)', ''))"
   ]
  },
  {
   "cell_type": "code",
   "execution_count": 20,
   "metadata": {},
   "outputs": [
    {
     "data": {
      "text/html": [
       "<div>\n",
       "<style scoped>\n",
       "    .dataframe tbody tr th:only-of-type {\n",
       "        vertical-align: middle;\n",
       "    }\n",
       "\n",
       "    .dataframe tbody tr th {\n",
       "        vertical-align: top;\n",
       "    }\n",
       "\n",
       "    .dataframe thead th {\n",
       "        text-align: right;\n",
       "    }\n",
       "</style>\n",
       "<table border=\"1\" class=\"dataframe\">\n",
       "  <thead>\n",
       "    <tr style=\"text-align: right;\">\n",
       "      <th></th>\n",
       "      <th>Continent</th>\n",
       "      <th>Country</th>\n",
       "      <th>Year</th>\n",
       "      <th>Energy</th>\n",
       "      <th>Industrial Processes</th>\n",
       "      <th>Agriculture</th>\n",
       "      <th>Waste</th>\n",
       "      <th>Land-Use Change and Forestry</th>\n",
       "      <th>Other Fuel Combustion</th>\n",
       "      <th>Fugitive Emissions</th>\n",
       "    </tr>\n",
       "  </thead>\n",
       "  <tbody>\n",
       "    <tr>\n",
       "      <th>0</th>\n",
       "      <td>Asia</td>\n",
       "      <td>Afghanistan</td>\n",
       "      <td>1990</td>\n",
       "      <td>3.77404</td>\n",
       "      <td>0.0571402</td>\n",
       "      <td>7.34271</td>\n",
       "      <td>4.03895</td>\n",
       "      <td>0</td>\n",
       "      <td>NaN</td>\n",
       "      <td>1.24222</td>\n",
       "    </tr>\n",
       "    <tr>\n",
       "      <th>1</th>\n",
       "      <td>Asia</td>\n",
       "      <td>Afghanistan</td>\n",
       "      <td>1991</td>\n",
       "      <td>3.3768</td>\n",
       "      <td>0.0585731</td>\n",
       "      <td>7.63103</td>\n",
       "      <td>4.22004</td>\n",
       "      <td>0</td>\n",
       "      <td>NaN</td>\n",
       "      <td>1.02085</td>\n",
       "    </tr>\n",
       "    <tr>\n",
       "      <th>2</th>\n",
       "      <td>Asia</td>\n",
       "      <td>Afghanistan</td>\n",
       "      <td>1992</td>\n",
       "      <td>1.9143</td>\n",
       "      <td>0.0636699</td>\n",
       "      <td>7.63144</td>\n",
       "      <td>4.40112</td>\n",
       "      <td>0</td>\n",
       "      <td>NaN</td>\n",
       "      <td>0.602588</td>\n",
       "    </tr>\n",
       "  </tbody>\n",
       "</table>\n",
       "</div>"
      ],
      "text/plain": [
       "  Continent      Country  Year   Energy Industrial Processes Agriculture  \\\n",
       "0      Asia  Afghanistan  1990  3.77404            0.0571402     7.34271   \n",
       "1      Asia  Afghanistan  1991   3.3768            0.0585731     7.63103   \n",
       "2      Asia  Afghanistan  1992   1.9143            0.0636699     7.63144   \n",
       "\n",
       "     Waste Land-Use Change and Forestry Other Fuel Combustion  \\\n",
       "0  4.03895                            0                   NaN   \n",
       "1  4.22004                            0                   NaN   \n",
       "2  4.40112                            0                   NaN   \n",
       "\n",
       "  Fugitive Emissions  \n",
       "0            1.24222  \n",
       "1            1.02085  \n",
       "2           0.602588  "
      ]
     },
     "execution_count": 20,
     "metadata": {},
     "output_type": "execute_result"
    }
   ],
   "source": [
    "df_all.head(3)"
   ]
  },
  {
   "cell_type": "markdown",
   "metadata": {},
   "source": [
    "I'll save this merged dataset for further analysis."
   ]
  },
  {
   "cell_type": "code",
   "execution_count": 22,
   "metadata": {},
   "outputs": [],
   "source": [
    "# save target dataset to csv\n",
    "df_all.to_csv('ghg.csv',index=False)"
   ]
  },
  {
   "cell_type": "markdown",
   "metadata": {},
   "source": [
    "Now to drill down on GHGs related to Zambia, and comparing to its neighbors."
   ]
  },
  {
   "cell_type": "code",
   "execution_count": 23,
   "metadata": {
    "collapsed": true
   },
   "outputs": [],
   "source": [
    "lst = ['Malawi', 'Zambia', 'Mozambique']\n",
    "def select_countries(df,lst):\n",
    "    df = df[df['Country'].isin(lst)]\n",
    "    return df"
   ]
  },
  {
   "cell_type": "code",
   "execution_count": 24,
   "metadata": {
    "collapsed": true
   },
   "outputs": [],
   "source": [
    "df_select = select_countries(df_all,lst)\n",
    "df_select_piv = df_select.pivot(index='Year', columns='Country', values= df_select.columns[3:])"
   ]
  },
  {
   "cell_type": "code",
   "execution_count": 41,
   "metadata": {
    "scrolled": false
   },
   "outputs": [
    {
     "name": "stderr",
     "output_type": "stream",
     "text": [
      "/home/silas/anaconda3/lib/python3.6/site-packages/plotly/offline/offline.py:459: UserWarning:\n",
      "\n",
      "Your filename `pandas-bar-chart-layout` didn't end with .html. Adding .html to the end of your file.\n",
      "\n"
     ]
    },
    {
     "data": {
      "text/plain": [
       "'file:///home/silas/JOBS/repo_clean/greenhouse_gases_eda/pandas-bar-chart-layout.html'"
      ]
     },
     "execution_count": 41,
     "metadata": {},
     "output_type": "execute_result"
    }
   ],
   "source": [
    "data = []\n",
    "country = 'Zambia'\n",
    "for i in list(df_select_piv.columns.get_level_values(0).unique()):\n",
    "    data.append(go.Bar(\n",
    "    x=df_select_piv.index,\n",
    "    y=df_select_piv[i][country],\n",
    "    name=i\n",
    "    ))\n",
    "\n",
    "layout = go.Layout(\n",
    "    barmode='stack',\n",
    "    title=country\n",
    ")\n",
    "\n",
    "fig = go.Figure(data=data, layout=layout)\n",
    "\n",
    "# IPython notebook\n",
    "plot(fig, filename='pandas-bar-chart-layout');"
   ]
  },
  {
   "cell_type": "code",
   "execution_count": 26,
   "metadata": {
    "collapsed": true
   },
   "outputs": [],
   "source": [
    "# get total ghgs for 3 countries\n",
    "df1 = df.reset_index()\n",
    "df1 = df1[df1['level_0'].isin(['Malawi', 'Zambia', 'Mozambique']) ]\n",
    "df1 = pd.DataFrame(df1.iloc[:,0:3])\n",
    "df1.columns = ['Country', 'year', 'Emission Totals']\n",
    "df1 = df1.pivot(index='year', columns='Country', values='Emission Totals').reset_index()"
   ]
  },
  {
   "cell_type": "code",
   "execution_count": 27,
   "metadata": {},
   "outputs": [
    {
     "data": {
      "text/html": [
       "<div>\n",
       "<style scoped>\n",
       "    .dataframe tbody tr th:only-of-type {\n",
       "        vertical-align: middle;\n",
       "    }\n",
       "\n",
       "    .dataframe tbody tr th {\n",
       "        vertical-align: top;\n",
       "    }\n",
       "\n",
       "    .dataframe thead th {\n",
       "        text-align: right;\n",
       "    }\n",
       "</style>\n",
       "<table border=\"1\" class=\"dataframe\">\n",
       "  <thead>\n",
       "    <tr style=\"text-align: right;\">\n",
       "      <th>Country</th>\n",
       "      <th>year</th>\n",
       "      <th>Malawi</th>\n",
       "      <th>Mozambique</th>\n",
       "      <th>Zambia</th>\n",
       "    </tr>\n",
       "  </thead>\n",
       "  <tbody>\n",
       "    <tr>\n",
       "      <th>0</th>\n",
       "      <td>1990</td>\n",
       "      <td>9.12266</td>\n",
       "      <td>18.2437</td>\n",
       "      <td>41.5585</td>\n",
       "    </tr>\n",
       "    <tr>\n",
       "      <th>1</th>\n",
       "      <td>1991</td>\n",
       "      <td>8.74378</td>\n",
       "      <td>18.1877</td>\n",
       "      <td>41.4408</td>\n",
       "    </tr>\n",
       "    <tr>\n",
       "      <th>2</th>\n",
       "      <td>1992</td>\n",
       "      <td>8.19758</td>\n",
       "      <td>18.4788</td>\n",
       "      <td>41.1258</td>\n",
       "    </tr>\n",
       "    <tr>\n",
       "      <th>3</th>\n",
       "      <td>1993</td>\n",
       "      <td>7.7916</td>\n",
       "      <td>18.8415</td>\n",
       "      <td>40.2397</td>\n",
       "    </tr>\n",
       "    <tr>\n",
       "      <th>4</th>\n",
       "      <td>1994</td>\n",
       "      <td>6.85482</td>\n",
       "      <td>18.766</td>\n",
       "      <td>39.1144</td>\n",
       "    </tr>\n",
       "  </tbody>\n",
       "</table>\n",
       "</div>"
      ],
      "text/plain": [
       "Country  year   Malawi Mozambique   Zambia\n",
       "0        1990  9.12266    18.2437  41.5585\n",
       "1        1991  8.74378    18.1877  41.4408\n",
       "2        1992  8.19758    18.4788  41.1258\n",
       "3        1993   7.7916    18.8415  40.2397\n",
       "4        1994  6.85482     18.766  39.1144"
      ]
     },
     "execution_count": 27,
     "metadata": {},
     "output_type": "execute_result"
    }
   ],
   "source": [
    "df1.head()"
   ]
  },
  {
   "cell_type": "code",
   "execution_count": 28,
   "metadata": {
    "collapsed": true
   },
   "outputs": [],
   "source": [
    "# extract population values from wb dataset in local dir \n",
    "# use: wget https://databank.worldbank.org/data/reports.aspx?source=2&series=SP.POP.TOTL&country=# \n",
    "\n",
    "def merge_pop_values(lst):\n",
    "    \n",
    "    for i,j in enumerate(lst):\n",
    "        country=i\n",
    "        file = 'pop.csv'\n",
    "        df_pop = pd.read_csv('/home/silas/Desktop/j_zambia/'+ file)\n",
    "        vals=df_pop[df_pop['Country Name']==j]\n",
    "        values_=df_pop.loc[i].values[4:]\n",
    "        len_=len(values_)\n",
    "        columns_=[x+1990 for x in list(range(len_))]\n",
    "        df1[j+'_pop'] = values_[:25]\n",
    "        \n",
    "    return df1 \n",
    "\n",
    "df_m=merge_pop_values(lst)"
   ]
  },
  {
   "cell_type": "code",
   "execution_count": 29,
   "metadata": {},
   "outputs": [
    {
     "data": {
      "text/html": [
       "<div>\n",
       "<style scoped>\n",
       "    .dataframe tbody tr th:only-of-type {\n",
       "        vertical-align: middle;\n",
       "    }\n",
       "\n",
       "    .dataframe tbody tr th {\n",
       "        vertical-align: top;\n",
       "    }\n",
       "\n",
       "    .dataframe thead th {\n",
       "        text-align: right;\n",
       "    }\n",
       "</style>\n",
       "<table border=\"1\" class=\"dataframe\">\n",
       "  <thead>\n",
       "    <tr style=\"text-align: right;\">\n",
       "      <th>Country</th>\n",
       "      <th>year</th>\n",
       "      <th>Malawi</th>\n",
       "      <th>Mozambique</th>\n",
       "      <th>Zambia</th>\n",
       "      <th>Malawi_pop</th>\n",
       "      <th>Zambia_pop</th>\n",
       "      <th>Mozambique_pop</th>\n",
       "    </tr>\n",
       "  </thead>\n",
       "  <tbody>\n",
       "    <tr>\n",
       "      <th>0</th>\n",
       "      <td>1990</td>\n",
       "      <td>9.12266</td>\n",
       "      <td>18.2437</td>\n",
       "      <td>41.5585</td>\n",
       "      <td>8.02725e+06</td>\n",
       "      <td>1.32476e+07</td>\n",
       "      <td>9.43755e+06</td>\n",
       "    </tr>\n",
       "    <tr>\n",
       "      <th>1</th>\n",
       "      <td>1991</td>\n",
       "      <td>8.74378</td>\n",
       "      <td>18.1877</td>\n",
       "      <td>41.4408</td>\n",
       "      <td>8.23973e+06</td>\n",
       "      <td>1.3592e+07</td>\n",
       "      <td>9.64115e+06</td>\n",
       "    </tr>\n",
       "    <tr>\n",
       "      <th>2</th>\n",
       "      <td>1992</td>\n",
       "      <td>8.19758</td>\n",
       "      <td>18.4788</td>\n",
       "      <td>41.1258</td>\n",
       "      <td>8.45228e+06</td>\n",
       "      <td>1.40712e+07</td>\n",
       "      <td>9.72972e+06</td>\n",
       "    </tr>\n",
       "    <tr>\n",
       "      <th>3</th>\n",
       "      <td>1993</td>\n",
       "      <td>7.7916</td>\n",
       "      <td>18.8415</td>\n",
       "      <td>40.2397</td>\n",
       "      <td>8.66917e+06</td>\n",
       "      <td>1.4637e+07</td>\n",
       "      <td>9.75586e+06</td>\n",
       "    </tr>\n",
       "    <tr>\n",
       "      <th>4</th>\n",
       "      <td>1994</td>\n",
       "      <td>6.85482</td>\n",
       "      <td>18.766</td>\n",
       "      <td>39.1144</td>\n",
       "      <td>8.89611e+06</td>\n",
       "      <td>1.5217e+07</td>\n",
       "      <td>9.79698e+06</td>\n",
       "    </tr>\n",
       "  </tbody>\n",
       "</table>\n",
       "</div>"
      ],
      "text/plain": [
       "Country  year   Malawi Mozambique   Zambia   Malawi_pop   Zambia_pop  \\\n",
       "0        1990  9.12266    18.2437  41.5585  8.02725e+06  1.32476e+07   \n",
       "1        1991  8.74378    18.1877  41.4408  8.23973e+06   1.3592e+07   \n",
       "2        1992  8.19758    18.4788  41.1258  8.45228e+06  1.40712e+07   \n",
       "3        1993   7.7916    18.8415  40.2397  8.66917e+06   1.4637e+07   \n",
       "4        1994  6.85482     18.766  39.1144  8.89611e+06   1.5217e+07   \n",
       "\n",
       "Country Mozambique_pop  \n",
       "0          9.43755e+06  \n",
       "1          9.64115e+06  \n",
       "2          9.72972e+06  \n",
       "3          9.75586e+06  \n",
       "4          9.79698e+06  "
      ]
     },
     "execution_count": 29,
     "metadata": {},
     "output_type": "execute_result"
    }
   ],
   "source": [
    "df_m.head()"
   ]
  },
  {
   "cell_type": "code",
   "execution_count": 46,
   "metadata": {},
   "outputs": [],
   "source": [
    "# calculate per capita\n",
    "for i in lst:\n",
    "    df_m[i+'_MtCO2e_pc'] = df_m[i] / pd.to_numeric(df_m[i+'_pop'])"
   ]
  },
  {
   "cell_type": "code",
   "execution_count": 47,
   "metadata": {
    "collapsed": true
   },
   "outputs": [],
   "source": [
    "df_s=df_m.set_index('year').iloc[:,6:]"
   ]
  },
  {
   "cell_type": "code",
   "execution_count": 48,
   "metadata": {},
   "outputs": [],
   "source": [
    "# ghg non per capita \n",
    "data = [go.Scatter(x=df_m.year, y=df_m[i], name=i) for i in list(df_m.columns)[1:4]]\n",
    "layout = go.Layout(yaxis=dict(title='Total MtCO2e'), showlegend=True, title='Total GHG Emissions Excluding Land-Use Change and Forestry MtCO2e')\n",
    "fig = go.Figure(data=data, layout=layout)\n",
    "plot(fig, filename='non-show-legend.html');"
   ]
  },
  {
   "cell_type": "code",
   "execution_count": 56,
   "metadata": {},
   "outputs": [
    {
     "data": {
      "application/vnd.plotly.v1+json": {
       "data": [
        {
         "name": "Malawi_MtCO2e_pc",
         "type": "scatter",
         "x": [
          1990,
          1991,
          1992,
          1993,
          1994,
          1995,
          1996,
          1997,
          1998,
          1999,
          2000,
          2001,
          2002,
          2003,
          2004,
          2005,
          2006,
          2007,
          2008,
          2009,
          2010,
          2011,
          2012,
          2013,
          2014
         ],
         "y": [
          1.1364615527672119e-06,
          1.0611724234282149e-06,
          9.698664254112371e-07,
          8.987718898568483e-07,
          7.705410391048791e-07,
          7.133027267750964e-07,
          7.008130785577614e-07,
          6.790441845543448e-07,
          6.661821325564573e-07,
          6.371977002509952e-07,
          6.207088219230603e-07,
          5.842148598655922e-07,
          5.886426802974527e-07,
          6.018175519669065e-07,
          5.838782257309727e-07,
          5.675316954848326e-07,
          5.77641489344256e-07,
          5.890941512516561e-07,
          6.184434550405794e-07,
          5.985572070064112e-07,
          6.419457222636265e-07,
          6.363223693360119e-07,
          6.495005205995186e-07,
          6.646169315042925e-07,
          6.527702517781663e-07
         ]
        },
        {
         "name": "Zambia_MtCO2e_pc",
         "type": "scatter",
         "x": [
          1990,
          1991,
          1992,
          1993,
          1994,
          1995,
          1996,
          1997,
          1998,
          1999,
          2000,
          2001,
          2002,
          2003,
          2004,
          2005,
          2006,
          2007,
          2008,
          2009,
          2010,
          2011,
          2012,
          2013,
          2014
         ],
         "y": [
          3.137048824005855e-06,
          3.048918043503558e-06,
          2.9226849692984067e-06,
          2.7491743289310763e-06,
          2.570430549465404e-06,
          2.435460603644031e-06,
          2.279900028992647e-06,
          2.2384371469189853e-06,
          2.2504758511450714e-06,
          2.0739671038003824e-06,
          1.957162569004678e-06,
          2.0385058637009336e-06,
          1.9304081274045164e-06,
          2.0034114980671665e-06,
          2.0314478555659296e-06,
          2.05974774686595e-06,
          1.9159695820364363e-06,
          1.8936733601271967e-06,
          1.894297762252729e-06,
          1.8326578976670252e-06,
          1.8908278372044761e-06,
          1.8363897900919845e-06,
          1.8924583133729674e-06,
          1.9068899541381757e-06,
          1.8815330035276125e-06
         ]
        },
        {
         "name": "Mozambique_MtCO2e_pc",
         "type": "scatter",
         "x": [
          1990,
          1991,
          1992,
          1993,
          1994,
          1995,
          1996,
          1997,
          1998,
          1999,
          2000,
          2001,
          2002,
          2003,
          2004,
          2005,
          2006,
          2007,
          2008,
          2009,
          2010,
          2011,
          2012,
          2013,
          2014
         ],
         "y": [
          1.9330968878876838e-06,
          1.8864694458119061e-06,
          1.899211372768655e-06,
          1.931303944240187e-06,
          1.9154843521986747e-06,
          1.951638309215609e-06,
          1.920068405625458e-06,
          1.7532292706925704e-06,
          1.8831192823426717e-06,
          1.7574035946680039e-06,
          1.6292534722087754e-06,
          1.7256204022057656e-06,
          1.5815263990421297e-06,
          1.827987415075223e-06,
          1.7018765376438122e-06,
          1.754003838370396e-06,
          1.6199916877511714e-06,
          1.7049919106115096e-06,
          1.7699194370589589e-06,
          1.6413554654627201e-06,
          1.7480019069044317e-06,
          1.5892805313254804e-06,
          1.585974832096591e-06,
          1.6566733679066486e-06,
          1.665414646677446e-06
         ]
        }
       ],
       "layout": {
        "showlegend": true,
        "title": "Total Per Capita GHG Emissions Excluding Land-Use Change and Forestry MtCO2e",
        "yaxis": {
         "title": "Total MtCO2e"
        }
       }
      },
      "text/html": [
       "<div id=\"70476338-ba19-4e5e-9846-8ddb946e2e07\" style=\"height: 525px; width: 100%;\" class=\"plotly-graph-div\"></div><script type=\"text/javascript\">require([\"plotly\"], function(Plotly) { window.PLOTLYENV=window.PLOTLYENV || {};window.PLOTLYENV.BASE_URL=\"https://plot.ly\";Plotly.newPlot(\"70476338-ba19-4e5e-9846-8ddb946e2e07\", [{\"type\": \"scatter\", \"x\": [1990, 1991, 1992, 1993, 1994, 1995, 1996, 1997, 1998, 1999, 2000, 2001, 2002, 2003, 2004, 2005, 2006, 2007, 2008, 2009, 2010, 2011, 2012, 2013, 2014], \"y\": [1.1364615527672119e-06, 1.0611724234282149e-06, 9.698664254112371e-07, 8.987718898568483e-07, 7.705410391048791e-07, 7.133027267750964e-07, 7.008130785577614e-07, 6.790441845543448e-07, 6.661821325564573e-07, 6.371977002509952e-07, 6.207088219230603e-07, 5.842148598655922e-07, 5.886426802974527e-07, 6.018175519669065e-07, 5.838782257309727e-07, 5.675316954848326e-07, 5.77641489344256e-07, 5.890941512516561e-07, 6.184434550405794e-07, 5.985572070064112e-07, 6.419457222636265e-07, 6.363223693360119e-07, 6.495005205995186e-07, 6.646169315042925e-07, 6.527702517781663e-07], \"name\": \"Malawi_MtCO2e_pc\"}, {\"type\": \"scatter\", \"x\": [1990, 1991, 1992, 1993, 1994, 1995, 1996, 1997, 1998, 1999, 2000, 2001, 2002, 2003, 2004, 2005, 2006, 2007, 2008, 2009, 2010, 2011, 2012, 2013, 2014], \"y\": [3.137048824005855e-06, 3.048918043503558e-06, 2.9226849692984067e-06, 2.7491743289310763e-06, 2.570430549465404e-06, 2.435460603644031e-06, 2.279900028992647e-06, 2.2384371469189853e-06, 2.2504758511450714e-06, 2.0739671038003824e-06, 1.957162569004678e-06, 2.0385058637009336e-06, 1.9304081274045164e-06, 2.0034114980671665e-06, 2.0314478555659296e-06, 2.05974774686595e-06, 1.9159695820364363e-06, 1.8936733601271967e-06, 1.894297762252729e-06, 1.8326578976670252e-06, 1.8908278372044761e-06, 1.8363897900919845e-06, 1.8924583133729674e-06, 1.9068899541381757e-06, 1.8815330035276125e-06], \"name\": \"Zambia_MtCO2e_pc\"}, {\"type\": \"scatter\", \"x\": [1990, 1991, 1992, 1993, 1994, 1995, 1996, 1997, 1998, 1999, 2000, 2001, 2002, 2003, 2004, 2005, 2006, 2007, 2008, 2009, 2010, 2011, 2012, 2013, 2014], \"y\": [1.9330968878876838e-06, 1.8864694458119061e-06, 1.899211372768655e-06, 1.931303944240187e-06, 1.9154843521986747e-06, 1.951638309215609e-06, 1.920068405625458e-06, 1.7532292706925704e-06, 1.8831192823426717e-06, 1.7574035946680039e-06, 1.6292534722087754e-06, 1.7256204022057656e-06, 1.5815263990421297e-06, 1.827987415075223e-06, 1.7018765376438122e-06, 1.754003838370396e-06, 1.6199916877511714e-06, 1.7049919106115096e-06, 1.7699194370589589e-06, 1.6413554654627201e-06, 1.7480019069044317e-06, 1.5892805313254804e-06, 1.585974832096591e-06, 1.6566733679066486e-06, 1.665414646677446e-06], \"name\": \"Mozambique_MtCO2e_pc\"}], {\"yaxis\": {\"title\": \"Total MtCO2e\"}, \"showlegend\": true, \"title\": \"Total Per Capita GHG Emissions Excluding Land-Use Change and Forestry MtCO2e\"}, {\"showLink\": true, \"linkText\": \"Export to plot.ly\"})});</script>"
      ],
      "text/vnd.plotly.v1+html": [
       "<div id=\"70476338-ba19-4e5e-9846-8ddb946e2e07\" style=\"height: 525px; width: 100%;\" class=\"plotly-graph-div\"></div><script type=\"text/javascript\">require([\"plotly\"], function(Plotly) { window.PLOTLYENV=window.PLOTLYENV || {};window.PLOTLYENV.BASE_URL=\"https://plot.ly\";Plotly.newPlot(\"70476338-ba19-4e5e-9846-8ddb946e2e07\", [{\"type\": \"scatter\", \"x\": [1990, 1991, 1992, 1993, 1994, 1995, 1996, 1997, 1998, 1999, 2000, 2001, 2002, 2003, 2004, 2005, 2006, 2007, 2008, 2009, 2010, 2011, 2012, 2013, 2014], \"y\": [1.1364615527672119e-06, 1.0611724234282149e-06, 9.698664254112371e-07, 8.987718898568483e-07, 7.705410391048791e-07, 7.133027267750964e-07, 7.008130785577614e-07, 6.790441845543448e-07, 6.661821325564573e-07, 6.371977002509952e-07, 6.207088219230603e-07, 5.842148598655922e-07, 5.886426802974527e-07, 6.018175519669065e-07, 5.838782257309727e-07, 5.675316954848326e-07, 5.77641489344256e-07, 5.890941512516561e-07, 6.184434550405794e-07, 5.985572070064112e-07, 6.419457222636265e-07, 6.363223693360119e-07, 6.495005205995186e-07, 6.646169315042925e-07, 6.527702517781663e-07], \"name\": \"Malawi_MtCO2e_pc\"}, {\"type\": \"scatter\", \"x\": [1990, 1991, 1992, 1993, 1994, 1995, 1996, 1997, 1998, 1999, 2000, 2001, 2002, 2003, 2004, 2005, 2006, 2007, 2008, 2009, 2010, 2011, 2012, 2013, 2014], \"y\": [3.137048824005855e-06, 3.048918043503558e-06, 2.9226849692984067e-06, 2.7491743289310763e-06, 2.570430549465404e-06, 2.435460603644031e-06, 2.279900028992647e-06, 2.2384371469189853e-06, 2.2504758511450714e-06, 2.0739671038003824e-06, 1.957162569004678e-06, 2.0385058637009336e-06, 1.9304081274045164e-06, 2.0034114980671665e-06, 2.0314478555659296e-06, 2.05974774686595e-06, 1.9159695820364363e-06, 1.8936733601271967e-06, 1.894297762252729e-06, 1.8326578976670252e-06, 1.8908278372044761e-06, 1.8363897900919845e-06, 1.8924583133729674e-06, 1.9068899541381757e-06, 1.8815330035276125e-06], \"name\": \"Zambia_MtCO2e_pc\"}, {\"type\": \"scatter\", \"x\": [1990, 1991, 1992, 1993, 1994, 1995, 1996, 1997, 1998, 1999, 2000, 2001, 2002, 2003, 2004, 2005, 2006, 2007, 2008, 2009, 2010, 2011, 2012, 2013, 2014], \"y\": [1.9330968878876838e-06, 1.8864694458119061e-06, 1.899211372768655e-06, 1.931303944240187e-06, 1.9154843521986747e-06, 1.951638309215609e-06, 1.920068405625458e-06, 1.7532292706925704e-06, 1.8831192823426717e-06, 1.7574035946680039e-06, 1.6292534722087754e-06, 1.7256204022057656e-06, 1.5815263990421297e-06, 1.827987415075223e-06, 1.7018765376438122e-06, 1.754003838370396e-06, 1.6199916877511714e-06, 1.7049919106115096e-06, 1.7699194370589589e-06, 1.6413554654627201e-06, 1.7480019069044317e-06, 1.5892805313254804e-06, 1.585974832096591e-06, 1.6566733679066486e-06, 1.665414646677446e-06], \"name\": \"Mozambique_MtCO2e_pc\"}], {\"yaxis\": {\"title\": \"Total MtCO2e\"}, \"showlegend\": true, \"title\": \"Total Per Capita GHG Emissions Excluding Land-Use Change and Forestry MtCO2e\"}, {\"showLink\": true, \"linkText\": \"Export to plot.ly\"})});</script>"
      ]
     },
     "metadata": {},
     "output_type": "display_data"
    }
   ],
   "source": [
    "# per capita ghg\n",
    "\n",
    "data = [go.Scatter(x=df_s.index, y=df_s[i], name=i) for i in list(df_s.columns)]\n",
    "layout = go.Layout(yaxis=dict(title='Total MtCO2e'), showlegend=True, title='Total Per Capita GHG Emissions Excluding Land-Use Change and Forestry MtCO2e')\n",
    "fig = go.Figure(data=data, layout=layout)\n",
    "iplot(fig, filename='show-legend')"
   ]
  },
  {
   "cell_type": "code",
   "execution_count": 52,
   "metadata": {
    "collapsed": true
   },
   "outputs": [],
   "source": [
    "from IPython.core.display import display, HTML"
   ]
  },
  {
   "cell_type": "code",
   "execution_count": 54,
   "metadata": {},
   "outputs": [
    {
     "data": {
      "text/html": [
       "home/silas/JOBS/repo_clean/greenhouse_gases_eda/show-legend.html"
      ],
      "text/plain": [
       "<IPython.core.display.HTML object>"
      ]
     },
     "metadata": {},
     "output_type": "display_data"
    }
   ],
   "source": [
    "display(HTML('home/silas/JOBS/repo_clean/greenhouse_gases_eda/show-legend.html'))"
   ]
  },
  {
   "cell_type": "code",
   "execution_count": null,
   "metadata": {
    "collapsed": true
   },
   "outputs": [],
   "source": []
  }
 ],
 "metadata": {
  "kernelspec": {
   "display_name": "Python 3",
   "language": "python",
   "name": "python3"
  },
  "language_info": {
   "codemirror_mode": {
    "name": "ipython",
    "version": 3
   },
   "file_extension": ".py",
   "mimetype": "text/x-python",
   "name": "python",
   "nbconvert_exporter": "python",
   "pygments_lexer": "ipython3",
   "version": "3.6.3"
  }
 },
 "nbformat": 4,
 "nbformat_minor": 2
}
